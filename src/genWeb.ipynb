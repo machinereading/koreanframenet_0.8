{
 "cells": [
  {
   "cell_type": "markdown",
   "metadata": {},
   "source": [
    "# Convert KFN_lus.json and KFN_annotations into Web data"
   ]
  },
  {
   "cell_type": "markdown",
   "metadata": {},
   "source": [
    "1) first delete \"*.json\" in /web/kolu folder\n",
    "\n",
    "2) run all functions\n",
    "\n",
    "3) then copy all files into your web server, especially kolu, frame, and lu folder"
   ]
  },
  {
   "cell_type": "code",
   "execution_count": 13,
   "metadata": {},
   "outputs": [],
   "source": [
    "import json\n",
    "import json\n",
    "import glob\n",
    "import xml.etree.ElementTree as ET\n",
    "from lxml import etree"
   ]
  },
  {
   "cell_type": "code",
   "execution_count": 14,
   "metadata": {},
   "outputs": [],
   "source": [
    "fndir = '../resource/'\n",
    "web_lu_dir = '../resource/web/kolu/'\n",
    "web_frame_index_dir = '../resource/web/frame/'\n",
    "web_FN17_index_dir = '../resource/web/FN17_frame_index/'"
   ]
  },
  {
   "cell_type": "code",
   "execution_count": 15,
   "metadata": {},
   "outputs": [
    {
     "name": "stdout",
     "output_type": "stream",
     "text": [
      "lus: 5663\n"
     ]
    }
   ],
   "source": [
    "def load_data():\n",
    "    with open(fndir+'KFN_lus.json','r') as f:\n",
    "        kfn_lus = json.load(f)\n",
    "    with open(fndir+'KFN_annotations.json','r') as f:\n",
    "        kfn_annos = json.load(f)\n",
    "    return kfn_lus, kfn_annos\n",
    "kfn_lus, kfn_annos = load_data()\n",
    "print('lus:', len(kfn_lus))"
   ]
  },
  {
   "cell_type": "markdown",
   "metadata": {},
   "source": [
    "TODO: gen patterns"
   ]
  },
  {
   "cell_type": "code",
   "execution_count": 16,
   "metadata": {},
   "outputs": [
    {
     "name": "stdout",
     "output_type": "stream",
     "text": [
      "5663 of lu files are generated\n"
     ]
    }
   ],
   "source": [
    "def gen_lu_files():\n",
    "    n_of_lu_file = 0 \n",
    "    for lu in kfn_lus:\n",
    "        filename = str(lu['lu_id'])+'.json'\n",
    "        d = {}\n",
    "        d['ko_pos'] = lu['pos']\n",
    "        d['ko_lu'] = lu['lu']\n",
    "        d['frameID'] = lu['fid']\n",
    "        d['frameName'] = lu['frameName']\n",
    "        d['en_lus'] = lu['en_lu']\n",
    "        d['lu_id'] = lu['lu_id']\n",
    "        patterns = []\n",
    "        koannotation_ids = lu['ko_annotation_id']\n",
    "        annotation = []\n",
    "        for aid in koannotation_ids:\n",
    "            for anno in kfn_annos:\n",
    "                text = anno['text']['ko_text']\n",
    "                ko_annos = anno['frameAnnotation']['ko_annotations']\n",
    "                for ko_anno in ko_annos:\n",
    "                    if aid == ko_anno['ko_annotation_id']:\n",
    "                        pat = {}\n",
    "                        pat['valenceText'] = 'annotation id: '+str(aid)\n",
    "                        exam = ko_anno\n",
    "                        exam['text'] = text\n",
    "                        examples = []\n",
    "                        examples.append(exam)\n",
    "                        pat['examples'] = examples\n",
    "                        patterns.append(pat)\n",
    "\n",
    "        d['patterns'] = patterns\n",
    "        with open(web_lu_dir+filename,'w') as f:\n",
    "            json.dump(d,f,indent=4,ensure_ascii=False)\n",
    "            n_of_lu_file +=1\n",
    "    print(n_of_lu_file, 'of lu files are generated')\n",
    "gen_lu_files()"
   ]
  },
  {
   "cell_type": "code",
   "execution_count": 17,
   "metadata": {},
   "outputs": [
    {
     "name": "stdout",
     "output_type": "stream",
     "text": [
      "index.json is written\n",
      "5663 is indexed\n"
     ]
    }
   ],
   "source": [
    "def gen_lu_index():\n",
    "    files = glob.glob('../resource/web/kolu/*.json')\n",
    "    lu_files = []\n",
    "    for i in files:\n",
    "        if 'index.json' in i:\n",
    "            pass\n",
    "        else:\n",
    "            lu_files.append(i)\n",
    "    indices = []\n",
    "    for i in lu_files:\n",
    "        with open(i, 'r') as f:\n",
    "            data = json.load(f)\n",
    "        kolu = data['ko_lu']\n",
    "        indices.append({'lu':kolu, 'pos':data['ko_pos'], 'id':data['lu_id']})\n",
    "        \n",
    "    indices = sorted(indices,key=lambda x: x['lu'])\n",
    "    with open(web_lu_dir+'index.json', 'w') as f:\n",
    "        json.dump(indices,f,indent=4,ensure_ascii=False)\n",
    "        print('index.json is written')\n",
    "    print(len(indices), 'is indexed')\n",
    "\n",
    "gen_lu_index()"
   ]
  },
  {
   "cell_type": "code",
   "execution_count": 21,
   "metadata": {},
   "outputs": [
    {
     "name": "stdout",
     "output_type": "stream",
     "text": [
      "../resource/KFN_frame_lu_pair.json is written\n",
      "687 frames are assigned to Korean LU\n"
     ]
    }
   ],
   "source": [
    "def generate_frame_kolu_pair():\n",
    "    with open('../resource/FN17_frame_id.json','r') as f:\n",
    "        pairs = json.load(f)\n",
    "    for pair in pairs:\n",
    "        pair['ko_lu'] = []\n",
    "    for pair in pairs:\n",
    "        for i in kfn_lus:\n",
    "            is_publish = i['publish']['is_publish']\n",
    "            if is_publish == True:\n",
    "                lu = i['lu']\n",
    "                fid = i['fid']\n",
    "                if fid == pair['id']:\n",
    "                    kolus = pair['ko_lu']\n",
    "                    kolus.append(lu)\n",
    "                    kolus = list(set(kolus))\n",
    "                    pair['ko_lu'] = kolus\n",
    "    with open('../resource/KFN_frame_lu_pair.json','w') as f:\n",
    "        json.dump(pairs, f, ensure_ascii=False, indent=4)\n",
    "        print('../resource/KFN_frame_lu_pair.json is written')\n",
    "    n_of_pair = 0\n",
    "    for pair in pairs:\n",
    "        if pair['ko_lu']:\n",
    "            n_of_pair += 1\n",
    "        else:\n",
    "            pass\n",
    "    print(n_of_pair, 'frames are assigned to Korean LU')\n",
    "generate_frame_kolu_pair()"
   ]
  },
  {
   "cell_type": "code",
   "execution_count": 10,
   "metadata": {},
   "outputs": [
    {
     "name": "stdout",
     "output_type": "stream",
     "text": [
      "687 frame index files are revised to add Korean LU\n"
     ]
    }
   ],
   "source": [
    "def get_lu_id(lu):\n",
    "    with open('../resource/KFN_lus.json','r') as f:\n",
    "        d = json.load(f)\n",
    "    for i in d:\n",
    "        if lu == i['lu']:\n",
    "            lu_id = i['lu_id']\n",
    "            break\n",
    "    return lu_id\n",
    "\n",
    "def gen_frame_index_file():\n",
    "    with open('../resource/KFN_frame_lu_pair.json','r') as f:\n",
    "        pairs = json.load(f)\n",
    "    cDate = '10/09/2018 09:00:00 KST Web'\n",
    "    cBy = 'hahm'\n",
    "    status = 'Created'\n",
    "    \n",
    "    n = 0\n",
    "    for frame in pairs:\n",
    "        filename = web_FN17_index_dir+frame['frame']+'.xml'\n",
    "        tree = etree.parse(filename)\n",
    "        note = tree.getroot()\n",
    "        if len(frame['ko_lu']) > 0:\n",
    "            n += 1\n",
    "        for j in frame['ko_lu']:\n",
    "            lu_id = get_lu_id(j)\n",
    "            lu_id = 'ko.'+str(lu_id)\n",
    "            lu = j\n",
    "\n",
    "            lexUnit = etree.Element('lexUnit')\n",
    "            lexUnit.attrib['name'] = lu\n",
    "            lexUnit.attrib['ID'] = lu_id\n",
    "            lexUnit.attrib['cDate'] = cDate\n",
    "            lexUnit.attrib['cBy'] = cBy\n",
    "            lexUnit.attrib['status'] = status\n",
    "            note.append(lexUnit)\n",
    "        \n",
    "        target_file = web_frame_index_dir+frame['frame']+'.xml'\n",
    "        tree.write(target_file, xml_declaration=True,encoding='utf-8',method='xml', pretty_print=True)\n",
    "    print(n, 'frame index files are revised to add Korean LU')   \n",
    "gen_frame_index_file()"
   ]
  },
  {
   "cell_type": "code",
   "execution_count": 12,
   "metadata": {},
   "outputs": [
    {
     "name": "stdout",
     "output_type": "stream",
     "text": [
      "5664 LU XML files are saved to /web/lu/\n"
     ]
    }
   ],
   "source": [
    "def gen_lu_xml():\n",
    "    n = 1\n",
    "    for lu in kfn_lus:\n",
    "        name = lu['lu']\n",
    "        frame = lu['frameName']\n",
    "        lu_id = lu['lu_id']\n",
    "\n",
    "        filename = '../resource/web/lu/luko.'+str(lu_id)+'.xml'\n",
    "        i = \"http://www.w3.org/2001/XMLSchema-instance\"\n",
    "        root = etree.Element(\"lexUnit\", nsmap={'xsi':i})\n",
    "        root.attrib['name'] = name\n",
    "        root.attrib['ID'] = str(lu_id)\n",
    "        root.attrib['frame'] = frame\n",
    "        root.attrib[etree.QName(i,'schemaLocation')] = \"../schema/lexUnit.xsd\"\n",
    "        root.attrib['xmlns'] = \"http://framenet.icsi.berkeley.edu\"\n",
    "        root.addprevious(lxml.etree.PI('xml-stylesheet','type=\"text/xsl\" href=\"lexUnit.xsl\"'))\n",
    "        doc = etree.ElementTree(root)            \n",
    "        \n",
    "        doc.write(filename,pretty_print=True,xml_declaration=True,encoding='utf-8', method='xml')\n",
    "        n += 1        \n",
    "    print(n, 'LU XML files are saved to /web/lu/')\n",
    "gen_lu_xml()"
   ]
  }
 ],
 "metadata": {
  "kernelspec": {
   "display_name": "Python 3",
   "language": "python",
   "name": "python3"
  },
  "language_info": {
   "codemirror_mode": {
    "name": "ipython",
    "version": 3
   },
   "file_extension": ".py",
   "mimetype": "text/x-python",
   "name": "python",
   "nbconvert_exporter": "python",
   "pygments_lexer": "ipython3",
   "version": "3.6.5"
  }
 },
 "nbformat": 4,
 "nbformat_minor": 2
}
