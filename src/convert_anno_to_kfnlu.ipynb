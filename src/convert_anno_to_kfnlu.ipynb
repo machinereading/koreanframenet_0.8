{
 "cells": [
  {
   "cell_type": "code",
   "execution_count": 1,
   "metadata": {},
   "outputs": [],
   "source": [
    "import json"
   ]
  },
  {
   "cell_type": "code",
   "execution_count": 3,
   "metadata": {},
   "outputs": [],
   "source": [
    "fndir = '../resource/v0.8/'"
   ]
  },
  {
   "cell_type": "code",
   "execution_count": 4,
   "metadata": {},
   "outputs": [],
   "source": [
    "def load_anno():\n",
    "    with open(fndir+'KFN_annotations.json','r') as f:\n",
    "        kfn_annos = json.load(f)\n",
    "    return kfn_annos\n",
    "kfn_annos = load_anno()"
   ]
  },
  {
   "cell_type": "code",
   "execution_count": 5,
   "metadata": {},
   "outputs": [],
   "source": [
    "def load_kfn_lus():\n",
    "    with open('../resource/v0.8/KFN_lus.json','r') as f:\n",
    "        kfn_lus = json.load(f)\n",
    "    return kfn_lus\n",
    "kfn_lus = load_kfn_lus()"
   ]
  },
  {
   "cell_type": "code",
   "execution_count": 42,
   "metadata": {},
   "outputs": [
    {
     "name": "stdout",
     "output_type": "stream",
     "text": [
      "before:\n",
      "{'fe_list': [], 'fid': 195, 'surface_forms': [], 'mapSejong': False, 'frameName': 'Political_locales', 'publish': {'is_publish': False, 'version': '0.8'}, 'lu_id': 2, 'lexeme': '나라', 'ko_annotation_id': [], 'lu': '나라.n.Political_locales', 'lemma_var': ['나라'], 'sejong_annotation_id': [], 'pos': 'n', 'en_lu': ['kuni .国 ', 'National', 'country'], 'lexical_entry': '나라.n'}\n"
     ]
    }
   ],
   "source": [
    "# 1) unpublishing all LUS\n",
    "for i in kfn_lus:\n",
    "    # 1) unpublishing all LUS\n",
    "    publish = {}\n",
    "    publish['is_publish'] = False\n",
    "    publish['version'] = '0.8'\n",
    "    i['publish'] = publish\n",
    "    \n",
    "    # 2) empty sejong mapping and all annotation_ids\n",
    "    i['mapSejong'] = False\n",
    "    i['sejong_annotation_id'] = []\n",
    "    i['ko_annotation_id'] = []\n",
    "    \n",
    "    # 3) empty surface forms\n",
    "    i['surface_forms'] = []\n",
    "    \n",
    "    # 4) rev POS\n",
    "    pos = i['lu'].split('.')[1]\n",
    "    i['pos'] = pos\n",
    "    \n",
    "    # 5) separate entry and lu\n",
    "    word = i['lu'].split('.')[0]\n",
    "    entry = word+'.'+pos\n",
    "    i['lexical_entry'] = entry\n",
    "    \n",
    "    # etc\n",
    "    enlus = i['en_lu']\n",
    "    for enlu in enlus:\n",
    "        enlu = enlu.lower()\n",
    "    enlus = list(set(enlus))\n",
    "    i['en_lu'] = enlus\n",
    "    \n",
    "    i['fe_list'] = []\n",
    "    \n",
    "    \n",
    "print('before:')\n",
    "print(kfn_lus[1])"
   ]
  },
  {
   "cell_type": "code",
   "execution_count": 43,
   "metadata": {},
   "outputs": [
    {
     "name": "stdout",
     "output_type": "stream",
     "text": [
      "after:\n",
      "{'fe_list': ['Locale', 'Descriptor'], 'fid': 195, 'surface_forms': ['나라입니다.', '나라의', '나라에서,', '나라에서', '나라는', '나라가', '나라로의', '나라도', '나라와의', '나라들이', '나라를', '「나라를', '나라에'], 'mapSejong': False, 'frameName': 'Political_locales', 'publish': {'is_publish': True, 'version': '0.8'}, 'lu_id': 2, 'lexeme': '나라', 'ko_annotation_id': [222, 2373, 2379, 3373, 3384, 3770, 3826, 4452, 5874, 6686, 6703, 6726, 6863, 8526, 9035, 9179, 9180, 10524, 12036, 13746, 13757, 13940], 'lu': '나라.n.Political_locales', 'lemma_var': ['나라'], 'sejong_annotation_id': [], 'pos': 'n', 'en_lu': ['kuni .国 ', 'National', 'country'], 'lexical_entry': '나라.n'}\n"
     ]
    }
   ],
   "source": [
    "# 2) rev ko_annotation_id\n",
    "for i in kfn_annos:\n",
    "    sent_id = i['text']['sent_id']\n",
    "    for koanno in i['frameAnnotation']['ko_annotations']:\n",
    "        anno_lu = koanno['lu']\n",
    "        ko_annotation_id = koanno['ko_annotation_id']\n",
    "        surface_form = ''\n",
    "        anno_fe_list = []\n",
    "        for deno in koanno['denotations']:\n",
    "            if deno['role'] == 'TARGET':\n",
    "                surface_form = deno['text']\n",
    "            else:\n",
    "                fe = deno['obj']\n",
    "                anno_fe_list.append(fe)\n",
    "        add = False\n",
    "        for kfn_lu in kfn_lus:\n",
    "            if anno_lu == kfn_lu['lu']:\n",
    "                ko_anno_ids = kfn_lu['ko_annotation_id']\n",
    "                ko_anno_ids.append(ko_annotation_id)\n",
    "                kfn_lu['ko_annotation_id'] = ko_anno_ids\n",
    "                \n",
    "                publish = kfn_lu['publish']\n",
    "                publish['is_publish'] = True\n",
    "                publish['version'] = '0.8'\n",
    "                kfn_lu['publish'] = publish\n",
    "                \n",
    "                if surface_form:\n",
    "                    surface_forms = kfn_lu['surface_forms']\n",
    "                    surface_forms.append(surface_form)\n",
    "                    surface_forms = list(set(surface_forms))\n",
    "                    kfn_lu['surface_forms'] = surface_forms\n",
    "                    \n",
    "                lu_fe_list = kfn_lu['fe_list']\n",
    "                lu_fe_list = lu_fe_list + anno_fe_list\n",
    "                lu_fe_list = list(set(lu_fe_list))\n",
    "                kfn_lu['fe_list'] = lu_fe_list\n",
    "                    \n",
    "                    \n",
    "                add = True\n",
    "        if add == False:\n",
    "            print('ERROR', sent_id)\n",
    "\n",
    "print('after:')\n",
    "print(kfn_lus[1])"
   ]
  },
  {
   "cell_type": "code",
   "execution_count": 44,
   "metadata": {},
   "outputs": [
    {
     "name": "stdout",
     "output_type": "stream",
     "text": [
      "{'fe_list': ['Depictive', 'Speaker', 'Message', 'Time'], 'fid': 43, 'surface_forms': ['동안', '말을', '말도'], 'mapSejong': False, 'frameName': 'Statement', 'publish': {'is_publish': True, 'version': '0.8'}, 'lu_id': 5663, 'lexeme': '말', 'ko_annotation_id': [8026, 11630, 11937], 'lu': '말.n.Statement', 'lemma_var': ['말'], 'sejong_annotation_id': [], 'pos': 'n', 'en_lu': ['kotoba .言葉 ', 'statement', 'iu .言う '], 'lexical_entry': '말.n'}\n",
      "5663\n"
     ]
    }
   ],
   "source": [
    "# 3) rev files for new LU ids\n",
    "rev_lus = []\n",
    "for lu in kfn_lus:\n",
    "    is_publish = lu['publish']['is_publish']\n",
    "    if is_publish == True:\n",
    "        rev_lus.append(lu)\n",
    "lu_id = 1\n",
    "for lu in rev_lus:\n",
    "    lu['lu_id'] = lu_id\n",
    "    lu_id += 1\n",
    "\n",
    "print(rev_lus[-1])\n",
    "print(len(rev_lus))"
   ]
  },
  {
   "cell_type": "code",
   "execution_count": 45,
   "metadata": {},
   "outputs": [],
   "source": [
    "# 4) save data\n",
    "with open(fndir+'KFN_lus.json','w') as f:\n",
    "    json.dump(rev_lus, f, ensure_ascii=False, indent=4)"
   ]
  }
 ],
 "metadata": {
  "kernelspec": {
   "display_name": "Python 3",
   "language": "python",
   "name": "python3"
  },
  "language_info": {
   "codemirror_mode": {
    "name": "ipython",
    "version": 3
   },
   "file_extension": ".py",
   "mimetype": "text/x-python",
   "name": "python",
   "nbconvert_exporter": "python",
   "pygments_lexer": "ipython3",
   "version": "3.6.5"
  }
 },
 "nbformat": 4,
 "nbformat_minor": 2
}
